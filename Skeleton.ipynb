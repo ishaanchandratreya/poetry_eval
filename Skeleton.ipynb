{
 "cells": [
  {
   "cell_type": "code",
   "execution_count": 91,
   "metadata": {},
   "outputs": [],
   "source": [
    "from itertools import permutations\n",
    "import random\n",
    "#this function returns a single permutation of a sentence\n",
    "def Permutate(Sentence):\n",
    "\n",
    "    words = Sentence.split()\n",
    "    lastWord = words.pop()\n",
    "    perms = []\n",
    "\n",
    "    # generates a list\n",
    "    for word in permutations(words):\n",
    "        perms.append(\" \".join(word))\n",
    "\n",
    "   \n",
    "    return random.choice(perms) + \" \" +lastWord\n"
   ]
  },
  {
   "cell_type": "code",
   "execution_count": 92,
   "metadata": {},
   "outputs": [],
   "source": [
    "myfile = open('shakespeare.txt','r')\n",
    "\n",
    "#create list for all Sonnet's\n",
    "sonnetList = []\n",
    "\n",
    "count = 1\n",
    "\n",
    "#parse file\n",
    "for line in myfile:\n",
    "    \n",
    "    if count == 1501:\n",
    "        break\n",
    "        \n",
    "    sonnetList.append(line.rstrip(\"\\n\"))\n",
    "    count = count + 1"
   ]
  },
  {
   "cell_type": "code",
   "execution_count": 93,
   "metadata": {},
   "outputs": [],
   "source": [
    "newSonnetList = []\n",
    "\n",
    "for i in range(15,len(sonnetList),15):\n",
    "    newSonnetList.append(sonnetList[i-14:i])"
   ]
  },
  {
   "cell_type": "code",
   "execution_count": 94,
   "metadata": {},
   "outputs": [],
   "source": [
    "#I create a list of the permutations of the sonnet's lines\n",
    "i = 0\n",
    "for Sonnet in newSonnetList:\n",
    "    \n",
    "    i = i+1\n",
    "    newSonnet = []\n",
    "    for s in Sonnet:\n",
    "        newSonnet.append(Permutate(s))\n",
    "    finalS= ',\\n'.join(newSonnet)\n",
    "    \n",
    "    f = open(\"sampleSkeletonSonnet_0.5_\"+str(i)+\".txt\",\"w+\")\n",
    "    f.write(finalS)\n",
    "    f.close()"
   ]
  },
  {
   "cell_type": "code",
   "execution_count": null,
   "metadata": {},
   "outputs": [],
   "source": []
  },
  {
   "cell_type": "code",
   "execution_count": null,
   "metadata": {},
   "outputs": [],
   "source": []
  }
 ],
 "metadata": {
  "kernelspec": {
   "display_name": "Python 3",
   "language": "python",
   "name": "python3"
  },
  "language_info": {
   "codemirror_mode": {
    "name": "ipython",
    "version": 3
   },
   "file_extension": ".py",
   "mimetype": "text/x-python",
   "name": "python",
   "nbconvert_exporter": "python",
   "pygments_lexer": "ipython3",
   "version": "3.7.1"
  }
 },
 "nbformat": 4,
 "nbformat_minor": 2
}
