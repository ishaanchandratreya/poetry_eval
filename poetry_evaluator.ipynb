{
 "cells": [
  {
   "cell_type": "code",
   "execution_count": 1,
   "metadata": {},
   "outputs": [],
   "source": [
    "import nltk\n",
    "import numpy as np\n",
    "import poetrytools"
   ]
  },
  {
   "cell_type": "code",
   "execution_count": 128,
   "metadata": {},
   "outputs": [
    {
     "name": "stdout",
     "output_type": "stream",
     "text": [
      "99\n"
     ]
    }
   ],
   "source": [
    "print(len(all_texts))"
   ]
  },
  {
   "cell_type": "code",
   "execution_count": 138,
   "metadata": {},
   "outputs": [],
   "source": [
    "def build_sonnet_dict():\n",
    "    \n",
    "    total_list = []\n",
    "    count = 0\n",
    "    dict_lists = {}\n",
    "    for i in range(len(all_texts)):\n",
    "        \n",
    "        dict_lists[i] = all_texts[i]\n",
    "        \n",
    "        \n",
    "    return dict_lists"
   ]
  },
  {
   "cell_type": "code",
   "execution_count": 130,
   "metadata": {},
   "outputs": [],
   "source": [
    "def metrics(poem):\n",
    "    \n",
    "    l = poetrytools.guess_metre(poem)[1]\n",
    "    m = poetrytools.guess_metre(poem)[3]\n",
    "    s = poetrytools.scanscion(poem)\n",
    "    r = poetrytools.guess_rhyme_type(poem)\n",
    "    f = poetrytools.guess_form(poem)\n",
    "    return l, m, s, r[0], r[1], f"
   ]
  },
  {
   "cell_type": "code",
   "execution_count": 131,
   "metadata": {},
   "outputs": [],
   "source": [
    "def c_data(list):\n",
    "    result= ''\n",
    "    for element in list:\n",
    "        result += \" \" + str(element)\n",
    "    return result"
   ]
  },
  {
   "cell_type": "code",
   "execution_count": 132,
   "metadata": {},
   "outputs": [],
   "source": [
    "from scipy import stats\n",
    "def sent(poem):\n",
    "    list_semantics_per_line = []\n",
    "    for i in range(len(poem)):\n",
    "    \n",
    "        current = TextBlob(c_data(poem[i]))\n",
    "        list_semantics_per_line.append(current.sentiment.polarity)\n",
    "        \n",
    "    stat = np.asarray(list_semantics_per_line)\n",
    "    \n",
    "    avg = np.mean(stat)\n",
    "    mode = stats.mode(stat)\n",
    "    range_r = np.max(stat) - np.min(stat)\n",
    "    \n",
    "    return avg, mode.mode.item(), range_r"
   ]
  },
  {
   "cell_type": "code",
   "execution_count": 188,
   "metadata": {},
   "outputs": [
    {
     "name": "stdout",
     "output_type": "stream",
     "text": [
      "sonnet17.txt\n",
      "sonnet7.txt\n",
      "sonnet6.txt\n",
      "sonnet16.txt\n",
      "sonnet14.txt\n",
      "sonnet28.txt\n",
      "sonnet4.txt\n",
      "sonnet5.txt\n",
      "sonnet29.txt\n",
      "sonnet15.txt\n",
      "sonnet39.txt\n",
      "sonnet11.txt\n",
      "sonnet1.txt\n",
      "sonnet0.txt\n",
      "sonnet10.txt\n",
      "sonnet38.txt\n",
      "sonnet12.txt\n",
      "sonnet2.txt\n",
      "sonnet3.txt\n",
      "sonnet13.txt\n",
      "sonnet60.txt\n",
      "sonnet74.txt\n",
      "sonnet48.txt\n",
      "sonnet49.txt\n",
      "sonnet75.txt\n",
      "sonnet61.txt\n",
      "sonnet88.txt\n",
      "sonnet77.txt\n",
      "sonnet63.txt\n",
      "sonnet62.txt\n",
      "sonnet76.txt\n",
      "sonnet89.txt\n",
      "sonnet99.txt\n",
      "sonnet72.txt\n",
      "sonnet66.txt\n",
      "sonnet67.txt\n",
      "sonnet73.txt\n",
      "sonnet98.txt\n",
      "sonnet59.txt\n",
      "sonnet65.txt\n",
      "sonnet71.txt\n",
      "sonnet70.txt\n",
      "sonnet64.txt\n",
      "sonnet58.txt\n",
      "sonnet82.txt\n",
      "sonnet96.txt\n",
      "sonnet41.txt\n",
      "sonnet55.txt\n",
      "sonnet69.txt\n",
      "sonnet68.txt\n",
      "sonnet54.txt\n",
      "sonnet40.txt\n",
      "sonnet97.txt\n",
      "sonnet83.txt\n",
      "sonnet95.txt\n",
      "sonnet81.txt\n",
      "sonnet56.txt\n",
      "sonnet42.txt\n",
      "sonnet43.txt\n",
      "sonnet57.txt\n",
      "sonnet80.txt\n",
      "sonnet94.txt\n",
      "sonnet90.txt\n",
      "sonnet84.txt\n",
      "sonnet53.txt\n",
      "sonnet47.txt\n",
      "sonnet46.txt\n",
      "sonnet52.txt\n",
      "sonnet85.txt\n",
      "sonnet91.txt\n",
      "sonnet87.txt\n",
      "sonnet93.txt\n",
      "sonnet78.txt\n",
      "sonnet44.txt\n",
      "sonnet50.txt\n",
      "sonnet51.txt\n",
      "sonnet45.txt\n",
      "sonnet79.txt\n",
      "sonnet92.txt\n",
      "sonnet86.txt\n",
      "sonnet22.txt\n",
      "sonnet36.txt\n",
      "sonnet37.txt\n",
      "sonnet23.txt\n",
      "sonnet35.txt\n",
      "sonnet21.txt\n",
      "sonnet20.txt\n",
      "sonnet34.txt\n",
      "sonnet18.txt\n",
      "sonnet30.txt\n",
      "sonnet24.txt\n",
      "sonnet8.txt\n",
      "sonnet9.txt\n",
      "sonnet25.txt\n",
      "sonnet31.txt\n",
      "sonnet19.txt\n",
      "sonnet27.txt\n",
      "sonnet33.txt\n",
      "sonnet32.txt\n",
      "sonnet26.txt\n"
     ]
    }
   ],
   "source": [
    "import os\n",
    "choice = 3\n",
    "options = ['rnn', 'skeleton', 'perm', 'markov']\n",
    "all_texts = []\n",
    "for each in os.listdir(options[choice]):\n",
    "    print(each)\n",
    "    text = open(os.path.join(options[choice], each), 'r').readlines()\n",
    "    all_texts.append(text)"
   ]
  },
  {
   "cell_type": "code",
   "execution_count": 189,
   "metadata": {},
   "outputs": [
    {
     "name": "stdout",
     "output_type": "stream",
     "text": [
      "100\n",
      "0.31313131313131315\n",
      "0.16161616161616163\n",
      "0.1414141414141414\n"
     ]
    }
   ],
   "source": [
    "out = build_sonnet_dict()\n",
    "print(len(out))\n",
    "total = 99\n",
    "def get_sonnet(n, dict_in=out):\n",
    "    \n",
    "    current = dict_in[n]\n",
    "    all_each = \"\"\n",
    "    for each in current:\n",
    "        all_each += each\n",
    "        \n",
    "    return poetrytools.tokenize(all_each[:-1])\n",
    "\n",
    "from textblob import TextBlob\n",
    "count_a = 0\n",
    "count_b = 0\n",
    "count_c = 0\n",
    "for i in range(total):\n",
    "    #print(i)\n",
    "    poem = get_sonnet(i)\n",
    "    if len(poem) < 3:\n",
    "        continue\n",
    "        \n",
    "    #print(poem)\n",
    "    plen, pmet, pstress, pscheme, ptype, pform = metrics(poem)\n",
    "    avg, mode, range_r = sent(poem)\n",
    "    #print(pscheme)\n",
    "    \n",
    "    if ptype != 'no rhyme':\n",
    "        count_a += 1\n",
    "        \n",
    "    if ptype == 'rima' or ptype == 'shakespearan sonnet':\n",
    "        count_b += 1\n",
    "        \n",
    "    if pmet == 'iambic pentameter':\n",
    "        count_c += 1\n",
    "        \n",
    "    #print(plen)\n",
    "        \n",
    "print(count_a/total)\n",
    "print(count_b/total)\n",
    "print(count_c/total)"
   ]
  },
  {
   "cell_type": "code",
   "execution_count": 190,
   "metadata": {},
   "outputs": [],
   "source": [
    "import collections\n",
    "avg_all = []\n",
    "range_all = []\n",
    "mode_all = []\n",
    "\n",
    "POSSIBLE_METRES = collections.OrderedDict(poetrytools.POSSIBLE_METRES)\n",
    "#print(POSSIBLE_METRES.keys().index(\"iambic trimeter\"))\n",
    "\n",
    "for all_len in range(total):\n",
    "    \n",
    "    \n",
    "    \n",
    "    #print(all_len)\n",
    "    \n",
    "    if out[all_len] == []:\n",
    "        continue\n",
    "    \n",
    "    poem = get_sonnet(all_len)\n",
    "    \n",
    "    plen, pmet, pstress, pscheme, ptype, pform = metrics(poem)\n",
    "    \n",
    "    #print(pscheme)\n",
    "    avg, mode, range_r = sent(poem)\n",
    "    \n",
    "    avg_all.append(avg)\n",
    "    range_all.append(range_r)\n",
    "    mode_all.append(mode) \n",
    "    \n",
    "avg_numpy = np.asarray(avg_all)\n",
    "range_numpy = np.asarray(range_all)\n",
    "mode_numpy = np.asarray(mode_all)"
   ]
  },
  {
   "cell_type": "code",
   "execution_count": 191,
   "metadata": {},
   "outputs": [
    {
     "name": "stdout",
     "output_type": "stream",
     "text": [
      "0.07211622015011228\n",
      "0.0\n",
      "1.0282257708278117\n"
     ]
    }
   ],
   "source": [
    "print(np.mean(avg_numpy))\n",
    "print(np.mean(mode_numpy))\n",
    "print(np.mean(range_numpy))"
   ]
  },
  {
   "cell_type": "code",
   "execution_count": null,
   "metadata": {},
   "outputs": [],
   "source": []
  },
  {
   "cell_type": "code",
   "execution_count": null,
   "metadata": {},
   "outputs": [],
   "source": []
  }
 ],
 "metadata": {
  "kernelspec": {
   "display_name": "Python 3",
   "language": "python",
   "name": "python3"
  },
  "language_info": {
   "codemirror_mode": {
    "name": "ipython",
    "version": 3
   },
   "file_extension": ".py",
   "mimetype": "text/x-python",
   "name": "python",
   "nbconvert_exporter": "python",
   "pygments_lexer": "ipython3",
   "version": "3.7.2"
  }
 },
 "nbformat": 4,
 "nbformat_minor": 4
}
